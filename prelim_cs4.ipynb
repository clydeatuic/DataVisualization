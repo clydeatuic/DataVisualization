{
  "nbformat": 4,
  "nbformat_minor": 0,
  "metadata": {
    "colab": {
      "name": "prelim_cs4.ipynb",
      "version": "0.3.2",
      "provenance": [],
      "collapsed_sections": []
    },
    "kernelspec": {
      "name": "python3",
      "display_name": "Python 3"
    }
  },
  "cells": [
    {
      "metadata": {
        "id": "1m_cH9UwYL1A",
        "colab_type": "text"
      },
      "cell_type": "markdown",
      "source": [
        "# Prelim Exam\n",
        "<em>***Movie Data Analysis***</em>. This exam will cover the prior knowledge and fundamentals in data visualization using python as programming environment with some useful dependencies e.g. scikit-learn, matplotlib, pandas, numpy, etc.\n",
        "\n",
        "### Part 1: Data Preparation (5 pts each)\n",
        "* Task 1 -  Using python in a jupyter lab environment, include necessary modules for data visualization.\n",
        "* Task 2 - Given two(2) documents in a comma-separated values format (see attached files), read CSV (comma-separated) files into DataFrame. Make sure to declare the variable names as ***```prelim_df```*** and ***```movies_df```***.\n",
        "* Task 3 - Using dataframe, check the equality of two given csv files. Display the boolean result.\n",
        "* Task 4 - Display the head of the dataframe with a parameter value ```5```. Note that the display format is in ***console*** form.\n",
        "* Task 5 - Display the head of the dataframe with a parameter value ```5```. Note that the display format is in ***tabular*** form.\n",
        "\n",
        "### Part 2: Data Exploration (5 pts each)\n",
        "* Task 6 - Read the ***movies.csv*** and store it in ***```df```*** with first row skipped since it has no meaning in the process. Display the head of the dataframe with a parameter value ```5```\n",
        "* Task 7 - Identify and display the data types of ***budget***, ***popularity*** and ***overview*** columns.\n",
        "* Task 8 - Display the ***first***  and ***second*** values in the ```vote_count``` column then display the ***sum*** of two values.\n",
        "* Task 9\n",
        " * 9.a - Calculate mean of vote average\n",
        " * 9.b - Calculate the number of votes (m), received by a movie in the 90th percentile\n",
        " * 9.c - Display ***```q_movies```*** shape and ***```df```*** shape\n",
        "* Task 10 - Print top fifteen(15) movies after computing weighted rates.\n",
        "\n",
        "### Part 3: Data Analysis (10 pts each)\n",
        "* Task 11 - Find and Plot movies that are very popular by ***sorting*** the dataset by the ***popularity*** column.\n",
        "* Task 12 - Choose the interesting columns (***'title'***, ***'budget'***, ***'vote_average'***, ***'vote_count'***), put them in a nice order and create a new data frame.\n",
        "* Task 13 - Plot Movie Budget of first ten movies in the dataset\n",
        "* Task 14 - Plot Movie Vote Average of first ten movies in the dataset\n",
        "* Task 15 - Plot Movie Vote Count of first ten movies in the dataset\n",
        "* ***Challenge Me*** - Plot the revenue trend based on first 100 grouped release dates"
      ]
    },
    {
      "metadata": {
        "id": "KMD69ln5Nmzm",
        "colab_type": "code",
        "colab": {}
      },
      "cell_type": "code",
      "source": [
        "# Task 1\n",
        "\n"
      ],
      "execution_count": 0,
      "outputs": []
    },
    {
      "metadata": {
        "id": "PsHY356AYQ1T",
        "colab_type": "code",
        "colab": {}
      },
      "cell_type": "code",
      "source": [
        "# Task 2\n",
        "prelim_df = \n",
        "movies_df = "
      ],
      "execution_count": 0,
      "outputs": []
    },
    {
      "metadata": {
        "id": "-6ac7RAxPLV3",
        "colab_type": "code",
        "outputId": "5a480aca-0299-4987-b27f-e47c96f96c51",
        "colab": {
          "base_uri": "https://localhost:8080/",
          "height": 35
        }
      },
      "cell_type": "code",
      "source": [
        "# Task 3\n"
      ],
      "execution_count": 0,
      "outputs": [
        {
          "output_type": "stream",
          "text": [
            "True\n"
          ],
          "name": "stdout"
        }
      ]
    },
    {
      "metadata": {
        "id": "hgZrMPoUPaJz",
        "colab_type": "code",
        "outputId": "5fd1f429-9c67-46fd-c505-dcbc23880ea7",
        "colab": {
          "base_uri": "https://localhost:8080/",
          "height": 1259
        }
      },
      "cell_type": "code",
      "source": [
        "# Task 4\n"
      ],
      "execution_count": 0,
      "outputs": [
        {
          "output_type": "stream",
          "text": [
            "         X.1                                                X.2  \\\n",
            "0     budget                                             genres   \n",
            "1  237000000  [{\"id\": 28, \"name\": \"Action\"}, {\"id\": 12, \"nam...   \n",
            "2  300000000  [{\"id\": 12, \"name\": \"Adventure\"}, {\"id\": 14, \"...   \n",
            "3  245000000  [{\"id\": 28, \"name\": \"Action\"}, {\"id\": 12, \"nam...   \n",
            "4  250000000  [{\"id\": 28, \"name\": \"Action\"}, {\"id\": 80, \"nam...   \n",
            "\n",
            "                                            X.3     X.4  \\\n",
            "0                                      homepage      id   \n",
            "1                   http://www.avatarmovie.com/   19995   \n",
            "2  http://disney.go.com/disneypictures/pirates/     285   \n",
            "3   http://www.sonypictures.com/movies/spectre/  206647   \n",
            "4            http://www.thedarkknightrises.com/   49026   \n",
            "\n",
            "                                                 X.5                X.6  \\\n",
            "0                                           keywords  original_language   \n",
            "1  [{\"id\": 1463, \"name\": \"culture clash\"}, {\"id\":...                 en   \n",
            "2  [{\"id\": 270, \"name\": \"ocean\"}, {\"id\": 726, \"na...                 en   \n",
            "3  [{\"id\": 470, \"name\": \"spy\"}, {\"id\": 818, \"name...                 en   \n",
            "4  [{\"id\": 849, \"name\": \"dc comics\"}, {\"id\": 853,...                 en   \n",
            "\n",
            "                                        X.7  \\\n",
            "0                            original_title   \n",
            "1                                    Avatar   \n",
            "2  Pirates of the Caribbean: At World's End   \n",
            "3                                   Spectre   \n",
            "4                     The Dark Knight Rises   \n",
            "\n",
            "                                                 X.8         X.9  \\\n",
            "0                                           overview  popularity   \n",
            "1  In the 22nd century, a paraplegic Marine is di...  150.437577   \n",
            "2  Captain Barbossa, long believed to be dead, ha...  139.082615   \n",
            "3  A cryptic message from Bond’s past sends him o...  107.376788   \n",
            "4  Following the death of District Attorney Harve...   112.31295   \n",
            "\n",
            "                                                X.10  \\\n",
            "0                               production_companies   \n",
            "1  [{\"name\": \"Ingenious Film Partners\", \"id\": 289...   \n",
            "2  [{\"name\": \"Walt Disney Pictures\", \"id\": 2}, {\"...   \n",
            "3  [{\"name\": \"Columbia Pictures\", \"id\": 5}, {\"nam...   \n",
            "4  [{\"name\": \"Legendary Pictures\", \"id\": 923}, {\"...   \n",
            "\n",
            "                                                X.11          X.12  \\\n",
            "0                               production_countries  release_date   \n",
            "1  [{\"iso_3166_1\": \"US\", \"name\": \"United States o...    12/10/2009   \n",
            "2  [{\"iso_3166_1\": \"US\", \"name\": \"United States o...     5/19/2007   \n",
            "3  [{\"iso_3166_1\": \"GB\", \"name\": \"United Kingdom\"...    10/26/2015   \n",
            "4  [{\"iso_3166_1\": \"US\", \"name\": \"United States o...     7/16/2012   \n",
            "\n",
            "         X.13     X.14                                               X.15  \\\n",
            "0     revenue  runtime                                   spoken_languages   \n",
            "1  2787965087      162  [{\"iso_639_1\": \"en\", \"name\": \"English\"}, {\"iso...   \n",
            "2   961000000      169           [{\"iso_639_1\": \"en\", \"name\": \"English\"}]   \n",
            "3   880674609      148  [{\"iso_639_1\": \"fr\", \"name\": \"Fran\\u00e7ais\"},...   \n",
            "4  1084939099      165           [{\"iso_639_1\": \"en\", \"name\": \"English\"}]   \n",
            "\n",
            "       X.16                                            X.17  \\\n",
            "0    status                                         tagline   \n",
            "1  Released                     Enter the World of Pandora.   \n",
            "2  Released  At the end of the world, the adventure begins.   \n",
            "3  Released                           A Plan No One Escapes   \n",
            "4  Released                                 The Legend Ends   \n",
            "\n",
            "                                       X.18          X.19        X.20  \n",
            "0                                     title  vote_average  vote_count  \n",
            "1                                    Avatar           7.2       11800  \n",
            "2  Pirates of the Caribbean: At World's End           6.9        4500  \n",
            "3                                   Spectre           6.3        4466  \n",
            "4                     The Dark Knight Rises           7.6        9106  \n"
          ],
          "name": "stdout"
        }
      ]
    },
    {
      "metadata": {
        "id": "K3joLkVTTYxy",
        "colab_type": "code",
        "outputId": "20fc42ce-5bc3-436a-b606-6c38d0da5b26",
        "colab": {
          "base_uri": "https://localhost:8080/",
          "height": 598
        }
      },
      "cell_type": "code",
      "source": [
        "# Task 5\n"
      ],
      "execution_count": 0,
      "outputs": [
        {
          "output_type": "execute_result",
          "data": {
            "text/html": [
              "<div>\n",
              "<style scoped>\n",
              "    .dataframe tbody tr th:only-of-type {\n",
              "        vertical-align: middle;\n",
              "    }\n",
              "\n",
              "    .dataframe tbody tr th {\n",
              "        vertical-align: top;\n",
              "    }\n",
              "\n",
              "    .dataframe thead th {\n",
              "        text-align: right;\n",
              "    }\n",
              "</style>\n",
              "<table border=\"1\" class=\"dataframe\">\n",
              "  <thead>\n",
              "    <tr style=\"text-align: right;\">\n",
              "      <th></th>\n",
              "      <th>X.1</th>\n",
              "      <th>X.2</th>\n",
              "      <th>X.3</th>\n",
              "      <th>X.4</th>\n",
              "      <th>X.5</th>\n",
              "      <th>X.6</th>\n",
              "      <th>X.7</th>\n",
              "      <th>X.8</th>\n",
              "      <th>X.9</th>\n",
              "      <th>X.10</th>\n",
              "      <th>X.11</th>\n",
              "      <th>X.12</th>\n",
              "      <th>X.13</th>\n",
              "      <th>X.14</th>\n",
              "      <th>X.15</th>\n",
              "      <th>X.16</th>\n",
              "      <th>X.17</th>\n",
              "      <th>X.18</th>\n",
              "      <th>X.19</th>\n",
              "      <th>X.20</th>\n",
              "    </tr>\n",
              "  </thead>\n",
              "  <tbody>\n",
              "    <tr>\n",
              "      <th>0</th>\n",
              "      <td>budget</td>\n",
              "      <td>genres</td>\n",
              "      <td>homepage</td>\n",
              "      <td>id</td>\n",
              "      <td>keywords</td>\n",
              "      <td>original_language</td>\n",
              "      <td>original_title</td>\n",
              "      <td>overview</td>\n",
              "      <td>popularity</td>\n",
              "      <td>production_companies</td>\n",
              "      <td>production_countries</td>\n",
              "      <td>release_date</td>\n",
              "      <td>revenue</td>\n",
              "      <td>runtime</td>\n",
              "      <td>spoken_languages</td>\n",
              "      <td>status</td>\n",
              "      <td>tagline</td>\n",
              "      <td>title</td>\n",
              "      <td>vote_average</td>\n",
              "      <td>vote_count</td>\n",
              "    </tr>\n",
              "    <tr>\n",
              "      <th>1</th>\n",
              "      <td>237000000</td>\n",
              "      <td>[{\"id\": 28, \"name\": \"Action\"}, {\"id\": 12, \"nam...</td>\n",
              "      <td>http://www.avatarmovie.com/</td>\n",
              "      <td>19995</td>\n",
              "      <td>[{\"id\": 1463, \"name\": \"culture clash\"}, {\"id\":...</td>\n",
              "      <td>en</td>\n",
              "      <td>Avatar</td>\n",
              "      <td>In the 22nd century, a paraplegic Marine is di...</td>\n",
              "      <td>150.437577</td>\n",
              "      <td>[{\"name\": \"Ingenious Film Partners\", \"id\": 289...</td>\n",
              "      <td>[{\"iso_3166_1\": \"US\", \"name\": \"United States o...</td>\n",
              "      <td>12/10/2009</td>\n",
              "      <td>2787965087</td>\n",
              "      <td>162</td>\n",
              "      <td>[{\"iso_639_1\": \"en\", \"name\": \"English\"}, {\"iso...</td>\n",
              "      <td>Released</td>\n",
              "      <td>Enter the World of Pandora.</td>\n",
              "      <td>Avatar</td>\n",
              "      <td>7.2</td>\n",
              "      <td>11800</td>\n",
              "    </tr>\n",
              "    <tr>\n",
              "      <th>2</th>\n",
              "      <td>300000000</td>\n",
              "      <td>[{\"id\": 12, \"name\": \"Adventure\"}, {\"id\": 14, \"...</td>\n",
              "      <td>http://disney.go.com/disneypictures/pirates/</td>\n",
              "      <td>285</td>\n",
              "      <td>[{\"id\": 270, \"name\": \"ocean\"}, {\"id\": 726, \"na...</td>\n",
              "      <td>en</td>\n",
              "      <td>Pirates of the Caribbean: At World's End</td>\n",
              "      <td>Captain Barbossa, long believed to be dead, ha...</td>\n",
              "      <td>139.082615</td>\n",
              "      <td>[{\"name\": \"Walt Disney Pictures\", \"id\": 2}, {\"...</td>\n",
              "      <td>[{\"iso_3166_1\": \"US\", \"name\": \"United States o...</td>\n",
              "      <td>5/19/2007</td>\n",
              "      <td>961000000</td>\n",
              "      <td>169</td>\n",
              "      <td>[{\"iso_639_1\": \"en\", \"name\": \"English\"}]</td>\n",
              "      <td>Released</td>\n",
              "      <td>At the end of the world, the adventure begins.</td>\n",
              "      <td>Pirates of the Caribbean: At World's End</td>\n",
              "      <td>6.9</td>\n",
              "      <td>4500</td>\n",
              "    </tr>\n",
              "    <tr>\n",
              "      <th>3</th>\n",
              "      <td>245000000</td>\n",
              "      <td>[{\"id\": 28, \"name\": \"Action\"}, {\"id\": 12, \"nam...</td>\n",
              "      <td>http://www.sonypictures.com/movies/spectre/</td>\n",
              "      <td>206647</td>\n",
              "      <td>[{\"id\": 470, \"name\": \"spy\"}, {\"id\": 818, \"name...</td>\n",
              "      <td>en</td>\n",
              "      <td>Spectre</td>\n",
              "      <td>A cryptic message from Bond’s past sends him o...</td>\n",
              "      <td>107.376788</td>\n",
              "      <td>[{\"name\": \"Columbia Pictures\", \"id\": 5}, {\"nam...</td>\n",
              "      <td>[{\"iso_3166_1\": \"GB\", \"name\": \"United Kingdom\"...</td>\n",
              "      <td>10/26/2015</td>\n",
              "      <td>880674609</td>\n",
              "      <td>148</td>\n",
              "      <td>[{\"iso_639_1\": \"fr\", \"name\": \"Fran\\u00e7ais\"},...</td>\n",
              "      <td>Released</td>\n",
              "      <td>A Plan No One Escapes</td>\n",
              "      <td>Spectre</td>\n",
              "      <td>6.3</td>\n",
              "      <td>4466</td>\n",
              "    </tr>\n",
              "    <tr>\n",
              "      <th>4</th>\n",
              "      <td>250000000</td>\n",
              "      <td>[{\"id\": 28, \"name\": \"Action\"}, {\"id\": 80, \"nam...</td>\n",
              "      <td>http://www.thedarkknightrises.com/</td>\n",
              "      <td>49026</td>\n",
              "      <td>[{\"id\": 849, \"name\": \"dc comics\"}, {\"id\": 853,...</td>\n",
              "      <td>en</td>\n",
              "      <td>The Dark Knight Rises</td>\n",
              "      <td>Following the death of District Attorney Harve...</td>\n",
              "      <td>112.31295</td>\n",
              "      <td>[{\"name\": \"Legendary Pictures\", \"id\": 923}, {\"...</td>\n",
              "      <td>[{\"iso_3166_1\": \"US\", \"name\": \"United States o...</td>\n",
              "      <td>7/16/2012</td>\n",
              "      <td>1084939099</td>\n",
              "      <td>165</td>\n",
              "      <td>[{\"iso_639_1\": \"en\", \"name\": \"English\"}]</td>\n",
              "      <td>Released</td>\n",
              "      <td>The Legend Ends</td>\n",
              "      <td>The Dark Knight Rises</td>\n",
              "      <td>7.6</td>\n",
              "      <td>9106</td>\n",
              "    </tr>\n",
              "  </tbody>\n",
              "</table>\n",
              "</div>"
            ],
            "text/plain": [
              "         X.1                                                X.2  \\\n",
              "0     budget                                             genres   \n",
              "1  237000000  [{\"id\": 28, \"name\": \"Action\"}, {\"id\": 12, \"nam...   \n",
              "2  300000000  [{\"id\": 12, \"name\": \"Adventure\"}, {\"id\": 14, \"...   \n",
              "3  245000000  [{\"id\": 28, \"name\": \"Action\"}, {\"id\": 12, \"nam...   \n",
              "4  250000000  [{\"id\": 28, \"name\": \"Action\"}, {\"id\": 80, \"nam...   \n",
              "\n",
              "                                            X.3     X.4  \\\n",
              "0                                      homepage      id   \n",
              "1                   http://www.avatarmovie.com/   19995   \n",
              "2  http://disney.go.com/disneypictures/pirates/     285   \n",
              "3   http://www.sonypictures.com/movies/spectre/  206647   \n",
              "4            http://www.thedarkknightrises.com/   49026   \n",
              "\n",
              "                                                 X.5                X.6  \\\n",
              "0                                           keywords  original_language   \n",
              "1  [{\"id\": 1463, \"name\": \"culture clash\"}, {\"id\":...                 en   \n",
              "2  [{\"id\": 270, \"name\": \"ocean\"}, {\"id\": 726, \"na...                 en   \n",
              "3  [{\"id\": 470, \"name\": \"spy\"}, {\"id\": 818, \"name...                 en   \n",
              "4  [{\"id\": 849, \"name\": \"dc comics\"}, {\"id\": 853,...                 en   \n",
              "\n",
              "                                        X.7  \\\n",
              "0                            original_title   \n",
              "1                                    Avatar   \n",
              "2  Pirates of the Caribbean: At World's End   \n",
              "3                                   Spectre   \n",
              "4                     The Dark Knight Rises   \n",
              "\n",
              "                                                 X.8         X.9  \\\n",
              "0                                           overview  popularity   \n",
              "1  In the 22nd century, a paraplegic Marine is di...  150.437577   \n",
              "2  Captain Barbossa, long believed to be dead, ha...  139.082615   \n",
              "3  A cryptic message from Bond’s past sends him o...  107.376788   \n",
              "4  Following the death of District Attorney Harve...   112.31295   \n",
              "\n",
              "                                                X.10  \\\n",
              "0                               production_companies   \n",
              "1  [{\"name\": \"Ingenious Film Partners\", \"id\": 289...   \n",
              "2  [{\"name\": \"Walt Disney Pictures\", \"id\": 2}, {\"...   \n",
              "3  [{\"name\": \"Columbia Pictures\", \"id\": 5}, {\"nam...   \n",
              "4  [{\"name\": \"Legendary Pictures\", \"id\": 923}, {\"...   \n",
              "\n",
              "                                                X.11          X.12  \\\n",
              "0                               production_countries  release_date   \n",
              "1  [{\"iso_3166_1\": \"US\", \"name\": \"United States o...    12/10/2009   \n",
              "2  [{\"iso_3166_1\": \"US\", \"name\": \"United States o...     5/19/2007   \n",
              "3  [{\"iso_3166_1\": \"GB\", \"name\": \"United Kingdom\"...    10/26/2015   \n",
              "4  [{\"iso_3166_1\": \"US\", \"name\": \"United States o...     7/16/2012   \n",
              "\n",
              "         X.13     X.14                                               X.15  \\\n",
              "0     revenue  runtime                                   spoken_languages   \n",
              "1  2787965087      162  [{\"iso_639_1\": \"en\", \"name\": \"English\"}, {\"iso...   \n",
              "2   961000000      169           [{\"iso_639_1\": \"en\", \"name\": \"English\"}]   \n",
              "3   880674609      148  [{\"iso_639_1\": \"fr\", \"name\": \"Fran\\u00e7ais\"},...   \n",
              "4  1084939099      165           [{\"iso_639_1\": \"en\", \"name\": \"English\"}]   \n",
              "\n",
              "       X.16                                            X.17  \\\n",
              "0    status                                         tagline   \n",
              "1  Released                     Enter the World of Pandora.   \n",
              "2  Released  At the end of the world, the adventure begins.   \n",
              "3  Released                           A Plan No One Escapes   \n",
              "4  Released                                 The Legend Ends   \n",
              "\n",
              "                                       X.18          X.19        X.20  \n",
              "0                                     title  vote_average  vote_count  \n",
              "1                                    Avatar           7.2       11800  \n",
              "2  Pirates of the Caribbean: At World's End           6.9        4500  \n",
              "3                                   Spectre           6.3        4466  \n",
              "4                     The Dark Knight Rises           7.6        9106  "
            ]
          },
          "metadata": {
            "tags": []
          },
          "execution_count": 32
        }
      ]
    },
    {
      "metadata": {
        "id": "ZbiMsKMHT_yI",
        "colab_type": "code",
        "outputId": "7bc0e961-8d21-4f01-b33e-1651809f0f1e",
        "colab": {
          "base_uri": "https://localhost:8080/",
          "height": 700
        }
      },
      "cell_type": "code",
      "source": [
        "# Task 6\n",
        "\n"
      ],
      "execution_count": 0,
      "outputs": [
        {
          "output_type": "execute_result",
          "data": {
            "text/html": [
              "<div>\n",
              "<style scoped>\n",
              "    .dataframe tbody tr th:only-of-type {\n",
              "        vertical-align: middle;\n",
              "    }\n",
              "\n",
              "    .dataframe tbody tr th {\n",
              "        vertical-align: top;\n",
              "    }\n",
              "\n",
              "    .dataframe thead th {\n",
              "        text-align: right;\n",
              "    }\n",
              "</style>\n",
              "<table border=\"1\" class=\"dataframe\">\n",
              "  <thead>\n",
              "    <tr style=\"text-align: right;\">\n",
              "      <th></th>\n",
              "      <th>budget</th>\n",
              "      <th>genres</th>\n",
              "      <th>homepage</th>\n",
              "      <th>id</th>\n",
              "      <th>keywords</th>\n",
              "      <th>original_language</th>\n",
              "      <th>original_title</th>\n",
              "      <th>overview</th>\n",
              "      <th>popularity</th>\n",
              "      <th>production_companies</th>\n",
              "      <th>production_countries</th>\n",
              "      <th>release_date</th>\n",
              "      <th>revenue</th>\n",
              "      <th>runtime</th>\n",
              "      <th>spoken_languages</th>\n",
              "      <th>status</th>\n",
              "      <th>tagline</th>\n",
              "      <th>title</th>\n",
              "      <th>vote_average</th>\n",
              "      <th>vote_count</th>\n",
              "    </tr>\n",
              "  </thead>\n",
              "  <tbody>\n",
              "    <tr>\n",
              "      <th>0</th>\n",
              "      <td>237000000</td>\n",
              "      <td>[{\"id\": 28, \"name\": \"Action\"}, {\"id\": 12, \"nam...</td>\n",
              "      <td>http://www.avatarmovie.com/</td>\n",
              "      <td>19995</td>\n",
              "      <td>[{\"id\": 1463, \"name\": \"culture clash\"}, {\"id\":...</td>\n",
              "      <td>en</td>\n",
              "      <td>Avatar</td>\n",
              "      <td>In the 22nd century, a paraplegic Marine is di...</td>\n",
              "      <td>150.437577</td>\n",
              "      <td>[{\"name\": \"Ingenious Film Partners\", \"id\": 289...</td>\n",
              "      <td>[{\"iso_3166_1\": \"US\", \"name\": \"United States o...</td>\n",
              "      <td>12/10/2009</td>\n",
              "      <td>2787965087</td>\n",
              "      <td>162.0</td>\n",
              "      <td>[{\"iso_639_1\": \"en\", \"name\": \"English\"}, {\"iso...</td>\n",
              "      <td>Released</td>\n",
              "      <td>Enter the World of Pandora.</td>\n",
              "      <td>Avatar</td>\n",
              "      <td>7.2</td>\n",
              "      <td>11800</td>\n",
              "    </tr>\n",
              "    <tr>\n",
              "      <th>1</th>\n",
              "      <td>300000000</td>\n",
              "      <td>[{\"id\": 12, \"name\": \"Adventure\"}, {\"id\": 14, \"...</td>\n",
              "      <td>http://disney.go.com/disneypictures/pirates/</td>\n",
              "      <td>285</td>\n",
              "      <td>[{\"id\": 270, \"name\": \"ocean\"}, {\"id\": 726, \"na...</td>\n",
              "      <td>en</td>\n",
              "      <td>Pirates of the Caribbean: At World's End</td>\n",
              "      <td>Captain Barbossa, long believed to be dead, ha...</td>\n",
              "      <td>139.082615</td>\n",
              "      <td>[{\"name\": \"Walt Disney Pictures\", \"id\": 2}, {\"...</td>\n",
              "      <td>[{\"iso_3166_1\": \"US\", \"name\": \"United States o...</td>\n",
              "      <td>5/19/2007</td>\n",
              "      <td>961000000</td>\n",
              "      <td>169.0</td>\n",
              "      <td>[{\"iso_639_1\": \"en\", \"name\": \"English\"}]</td>\n",
              "      <td>Released</td>\n",
              "      <td>At the end of the world, the adventure begins.</td>\n",
              "      <td>Pirates of the Caribbean: At World's End</td>\n",
              "      <td>6.9</td>\n",
              "      <td>4500</td>\n",
              "    </tr>\n",
              "    <tr>\n",
              "      <th>2</th>\n",
              "      <td>245000000</td>\n",
              "      <td>[{\"id\": 28, \"name\": \"Action\"}, {\"id\": 12, \"nam...</td>\n",
              "      <td>http://www.sonypictures.com/movies/spectre/</td>\n",
              "      <td>206647</td>\n",
              "      <td>[{\"id\": 470, \"name\": \"spy\"}, {\"id\": 818, \"name...</td>\n",
              "      <td>en</td>\n",
              "      <td>Spectre</td>\n",
              "      <td>A cryptic message from Bond’s past sends him o...</td>\n",
              "      <td>107.376788</td>\n",
              "      <td>[{\"name\": \"Columbia Pictures\", \"id\": 5}, {\"nam...</td>\n",
              "      <td>[{\"iso_3166_1\": \"GB\", \"name\": \"United Kingdom\"...</td>\n",
              "      <td>10/26/2015</td>\n",
              "      <td>880674609</td>\n",
              "      <td>148.0</td>\n",
              "      <td>[{\"iso_639_1\": \"fr\", \"name\": \"Fran\\u00e7ais\"},...</td>\n",
              "      <td>Released</td>\n",
              "      <td>A Plan No One Escapes</td>\n",
              "      <td>Spectre</td>\n",
              "      <td>6.3</td>\n",
              "      <td>4466</td>\n",
              "    </tr>\n",
              "    <tr>\n",
              "      <th>3</th>\n",
              "      <td>250000000</td>\n",
              "      <td>[{\"id\": 28, \"name\": \"Action\"}, {\"id\": 80, \"nam...</td>\n",
              "      <td>http://www.thedarkknightrises.com/</td>\n",
              "      <td>49026</td>\n",
              "      <td>[{\"id\": 849, \"name\": \"dc comics\"}, {\"id\": 853,...</td>\n",
              "      <td>en</td>\n",
              "      <td>The Dark Knight Rises</td>\n",
              "      <td>Following the death of District Attorney Harve...</td>\n",
              "      <td>112.312950</td>\n",
              "      <td>[{\"name\": \"Legendary Pictures\", \"id\": 923}, {\"...</td>\n",
              "      <td>[{\"iso_3166_1\": \"US\", \"name\": \"United States o...</td>\n",
              "      <td>7/16/2012</td>\n",
              "      <td>1084939099</td>\n",
              "      <td>165.0</td>\n",
              "      <td>[{\"iso_639_1\": \"en\", \"name\": \"English\"}]</td>\n",
              "      <td>Released</td>\n",
              "      <td>The Legend Ends</td>\n",
              "      <td>The Dark Knight Rises</td>\n",
              "      <td>7.6</td>\n",
              "      <td>9106</td>\n",
              "    </tr>\n",
              "    <tr>\n",
              "      <th>4</th>\n",
              "      <td>260000000</td>\n",
              "      <td>[{\"id\": 28, \"name\": \"Action\"}, {\"id\": 12, \"nam...</td>\n",
              "      <td>http://movies.disney.com/john-carter</td>\n",
              "      <td>49529</td>\n",
              "      <td>[{\"id\": 818, \"name\": \"based on novel\"}, {\"id\":...</td>\n",
              "      <td>en</td>\n",
              "      <td>John Carter</td>\n",
              "      <td>John Carter is a war-weary, former military ca...</td>\n",
              "      <td>43.926995</td>\n",
              "      <td>[{\"name\": \"Walt Disney Pictures\", \"id\": 2}]</td>\n",
              "      <td>[{\"iso_3166_1\": \"US\", \"name\": \"United States o...</td>\n",
              "      <td>3/7/2012</td>\n",
              "      <td>284139100</td>\n",
              "      <td>132.0</td>\n",
              "      <td>[{\"iso_639_1\": \"en\", \"name\": \"English\"}]</td>\n",
              "      <td>Released</td>\n",
              "      <td>Lost in our world, found in another.</td>\n",
              "      <td>John Carter</td>\n",
              "      <td>6.1</td>\n",
              "      <td>2124</td>\n",
              "    </tr>\n",
              "  </tbody>\n",
              "</table>\n",
              "</div>"
            ],
            "text/plain": [
              "      budget                                             genres  \\\n",
              "0  237000000  [{\"id\": 28, \"name\": \"Action\"}, {\"id\": 12, \"nam...   \n",
              "1  300000000  [{\"id\": 12, \"name\": \"Adventure\"}, {\"id\": 14, \"...   \n",
              "2  245000000  [{\"id\": 28, \"name\": \"Action\"}, {\"id\": 12, \"nam...   \n",
              "3  250000000  [{\"id\": 28, \"name\": \"Action\"}, {\"id\": 80, \"nam...   \n",
              "4  260000000  [{\"id\": 28, \"name\": \"Action\"}, {\"id\": 12, \"nam...   \n",
              "\n",
              "                                       homepage      id  \\\n",
              "0                   http://www.avatarmovie.com/   19995   \n",
              "1  http://disney.go.com/disneypictures/pirates/     285   \n",
              "2   http://www.sonypictures.com/movies/spectre/  206647   \n",
              "3            http://www.thedarkknightrises.com/   49026   \n",
              "4          http://movies.disney.com/john-carter   49529   \n",
              "\n",
              "                                            keywords original_language  \\\n",
              "0  [{\"id\": 1463, \"name\": \"culture clash\"}, {\"id\":...                en   \n",
              "1  [{\"id\": 270, \"name\": \"ocean\"}, {\"id\": 726, \"na...                en   \n",
              "2  [{\"id\": 470, \"name\": \"spy\"}, {\"id\": 818, \"name...                en   \n",
              "3  [{\"id\": 849, \"name\": \"dc comics\"}, {\"id\": 853,...                en   \n",
              "4  [{\"id\": 818, \"name\": \"based on novel\"}, {\"id\":...                en   \n",
              "\n",
              "                             original_title  \\\n",
              "0                                    Avatar   \n",
              "1  Pirates of the Caribbean: At World's End   \n",
              "2                                   Spectre   \n",
              "3                     The Dark Knight Rises   \n",
              "4                               John Carter   \n",
              "\n",
              "                                            overview  popularity  \\\n",
              "0  In the 22nd century, a paraplegic Marine is di...  150.437577   \n",
              "1  Captain Barbossa, long believed to be dead, ha...  139.082615   \n",
              "2  A cryptic message from Bond’s past sends him o...  107.376788   \n",
              "3  Following the death of District Attorney Harve...  112.312950   \n",
              "4  John Carter is a war-weary, former military ca...   43.926995   \n",
              "\n",
              "                                production_companies  \\\n",
              "0  [{\"name\": \"Ingenious Film Partners\", \"id\": 289...   \n",
              "1  [{\"name\": \"Walt Disney Pictures\", \"id\": 2}, {\"...   \n",
              "2  [{\"name\": \"Columbia Pictures\", \"id\": 5}, {\"nam...   \n",
              "3  [{\"name\": \"Legendary Pictures\", \"id\": 923}, {\"...   \n",
              "4        [{\"name\": \"Walt Disney Pictures\", \"id\": 2}]   \n",
              "\n",
              "                                production_countries release_date     revenue  \\\n",
              "0  [{\"iso_3166_1\": \"US\", \"name\": \"United States o...   12/10/2009  2787965087   \n",
              "1  [{\"iso_3166_1\": \"US\", \"name\": \"United States o...    5/19/2007   961000000   \n",
              "2  [{\"iso_3166_1\": \"GB\", \"name\": \"United Kingdom\"...   10/26/2015   880674609   \n",
              "3  [{\"iso_3166_1\": \"US\", \"name\": \"United States o...    7/16/2012  1084939099   \n",
              "4  [{\"iso_3166_1\": \"US\", \"name\": \"United States o...     3/7/2012   284139100   \n",
              "\n",
              "   runtime                                   spoken_languages    status  \\\n",
              "0    162.0  [{\"iso_639_1\": \"en\", \"name\": \"English\"}, {\"iso...  Released   \n",
              "1    169.0           [{\"iso_639_1\": \"en\", \"name\": \"English\"}]  Released   \n",
              "2    148.0  [{\"iso_639_1\": \"fr\", \"name\": \"Fran\\u00e7ais\"},...  Released   \n",
              "3    165.0           [{\"iso_639_1\": \"en\", \"name\": \"English\"}]  Released   \n",
              "4    132.0           [{\"iso_639_1\": \"en\", \"name\": \"English\"}]  Released   \n",
              "\n",
              "                                          tagline  \\\n",
              "0                     Enter the World of Pandora.   \n",
              "1  At the end of the world, the adventure begins.   \n",
              "2                           A Plan No One Escapes   \n",
              "3                                 The Legend Ends   \n",
              "4            Lost in our world, found in another.   \n",
              "\n",
              "                                      title  vote_average  vote_count  \n",
              "0                                    Avatar           7.2       11800  \n",
              "1  Pirates of the Caribbean: At World's End           6.9        4500  \n",
              "2                                   Spectre           6.3        4466  \n",
              "3                     The Dark Knight Rises           7.6        9106  \n",
              "4                               John Carter           6.1        2124  "
            ]
          },
          "metadata": {
            "tags": []
          },
          "execution_count": 135
        }
      ]
    },
    {
      "metadata": {
        "id": "bCgZB19jrQLM",
        "colab_type": "code",
        "outputId": "fecd2e6f-d035-4c23-8cfa-04eb8b17b390",
        "colab": {
          "base_uri": "https://localhost:8080/",
          "height": 71
        }
      },
      "cell_type": "code",
      "source": [
        "# Task 7\n",
        "\n",
        "\n"
      ],
      "execution_count": 0,
      "outputs": [
        {
          "output_type": "stream",
          "text": [
            "int64\n",
            "float64\n",
            "object\n"
          ],
          "name": "stdout"
        }
      ]
    },
    {
      "metadata": {
        "id": "fuM-mgA4ua2A",
        "colab_type": "code",
        "outputId": "d41922cf-7ab8-4119-8228-d2b789142d08",
        "colab": {
          "base_uri": "https://localhost:8080/",
          "height": 71
        }
      },
      "cell_type": "code",
      "source": [
        "# Task 8\n",
        "\n",
        "# Print the first value in the `vote_count` column\n",
        "\n",
        "# Print the second value in the `vote_count` column\n",
        "\n",
        "# Print the sum\n"
      ],
      "execution_count": 0,
      "outputs": [
        {
          "output_type": "stream",
          "text": [
            "11800\n",
            "4500\n",
            "16300\n"
          ],
          "name": "stdout"
        }
      ]
    },
    {
      "metadata": {
        "id": "CbcZY7alvXzb",
        "colab_type": "code",
        "outputId": "079e33ae-bfaa-46d5-a385-7976c95d3087",
        "colab": {
          "base_uri": "https://localhost:8080/",
          "height": 35
        }
      },
      "cell_type": "code",
      "source": [
        "# Task 9.a \n",
        "\n",
        "# Calculate mean of vote average\n",
        "C = \n",
        "print(C)"
      ],
      "execution_count": 0,
      "outputs": [
        {
          "output_type": "stream",
          "text": [
            "6.092171559442016\n"
          ],
          "name": "stdout"
        }
      ]
    },
    {
      "metadata": {
        "id": "yPjr4NhywHip",
        "colab_type": "code",
        "outputId": "2af377a6-33bc-4788-81ce-fe79bce2d9e2",
        "colab": {
          "base_uri": "https://localhost:8080/",
          "height": 35
        }
      },
      "cell_type": "code",
      "source": [
        "# Task 9.b\n",
        "\n",
        "# Calculate the number of votes (m), received by a movie in the 90th percentile\n",
        "m = \n",
        "print(m)"
      ],
      "execution_count": 0,
      "outputs": [
        {
          "output_type": "stream",
          "text": [
            "1838.4000000000015\n"
          ],
          "name": "stdout"
        }
      ]
    },
    {
      "metadata": {
        "id": "8LWa7NqVw3AM",
        "colab_type": "code",
        "outputId": "9c117abc-09f4-4589-a44e-c301f1ca1c9a",
        "colab": {
          "base_uri": "https://localhost:8080/",
          "height": 35
        }
      },
      "cell_type": "code",
      "source": [
        "# Filter out all qualified movies into a new DataFrame\n",
        "q_movies = df.copy().loc[df['vote_count'] >= m]\n",
        "\n",
        "# Task 9.c\n",
        "\n",
        "# Display q_movies shape\n"
      ],
      "execution_count": 0,
      "outputs": [
        {
          "output_type": "execute_result",
          "data": {
            "text/plain": [
              "(481, 20)"
            ]
          },
          "metadata": {
            "tags": []
          },
          "execution_count": 140
        }
      ]
    },
    {
      "metadata": {
        "id": "kY3LpezgdXfl",
        "colab_type": "code",
        "outputId": "7bfad9b7-f11c-4f9a-ab2f-41081323f242",
        "colab": {
          "base_uri": "https://localhost:8080/",
          "height": 35
        }
      },
      "cell_type": "code",
      "source": [
        "# Task 9.c (cont...)\n",
        "\n",
        "# Display df shape\n"
      ],
      "execution_count": 0,
      "outputs": [
        {
          "output_type": "execute_result",
          "data": {
            "text/plain": [
              "(4803, 20)"
            ]
          },
          "metadata": {
            "tags": []
          },
          "execution_count": 141
        }
      ]
    },
    {
      "metadata": {
        "id": "wa-wTrEVxagM",
        "colab_type": "code",
        "outputId": "64f6d4aa-86cf-4ee7-d403-ea9a3eb7e1b1",
        "colab": {
          "base_uri": "https://localhost:8080/",
          "height": 514
        }
      },
      "cell_type": "code",
      "source": [
        "# Function that computes the weighted rating of each movie\n",
        "def weighted_rating(x, m=m, C=C):\n",
        "    v = x['vote_count']\n",
        "    R = x['vote_average']\n",
        "    # Calculation based on the IMDB formula\n",
        "    return (v/(v+m) * R) + (m/(m+v) * C)\n",
        "  \n",
        "# Define a new feature 'score' and calculate its value with `weighted_rating()`\n",
        "q_movies['score'] = q_movies.apply(weighted_rating, axis=1)\n",
        "# Sort movies based on score calculated above\n",
        "q_movies = q_movies.sort_values('score', ascending=False)\n",
        "\n",
        "\n",
        "# Task 10\n",
        "\n",
        "# Print the top 15 movies\n"
      ],
      "execution_count": 0,
      "outputs": [
        {
          "output_type": "execute_result",
          "data": {
            "text/html": [
              "<div>\n",
              "<style scoped>\n",
              "    .dataframe tbody tr th:only-of-type {\n",
              "        vertical-align: middle;\n",
              "    }\n",
              "\n",
              "    .dataframe tbody tr th {\n",
              "        vertical-align: top;\n",
              "    }\n",
              "\n",
              "    .dataframe thead th {\n",
              "        text-align: right;\n",
              "    }\n",
              "</style>\n",
              "<table border=\"1\" class=\"dataframe\">\n",
              "  <thead>\n",
              "    <tr style=\"text-align: right;\">\n",
              "      <th></th>\n",
              "      <th>title</th>\n",
              "      <th>vote_count</th>\n",
              "      <th>vote_average</th>\n",
              "      <th>score</th>\n",
              "    </tr>\n",
              "  </thead>\n",
              "  <tbody>\n",
              "    <tr>\n",
              "      <th>1881</th>\n",
              "      <td>The Shawshank Redemption</td>\n",
              "      <td>8205</td>\n",
              "      <td>8.5</td>\n",
              "      <td>8.059258</td>\n",
              "    </tr>\n",
              "    <tr>\n",
              "      <th>662</th>\n",
              "      <td>Fight Club</td>\n",
              "      <td>9413</td>\n",
              "      <td>8.3</td>\n",
              "      <td>7.939256</td>\n",
              "    </tr>\n",
              "    <tr>\n",
              "      <th>65</th>\n",
              "      <td>The Dark Knight</td>\n",
              "      <td>12002</td>\n",
              "      <td>8.2</td>\n",
              "      <td>7.920020</td>\n",
              "    </tr>\n",
              "    <tr>\n",
              "      <th>3232</th>\n",
              "      <td>Pulp Fiction</td>\n",
              "      <td>8428</td>\n",
              "      <td>8.3</td>\n",
              "      <td>7.904645</td>\n",
              "    </tr>\n",
              "    <tr>\n",
              "      <th>96</th>\n",
              "      <td>Inception</td>\n",
              "      <td>13752</td>\n",
              "      <td>8.1</td>\n",
              "      <td>7.863239</td>\n",
              "    </tr>\n",
              "    <tr>\n",
              "      <th>3337</th>\n",
              "      <td>The Godfather</td>\n",
              "      <td>5893</td>\n",
              "      <td>8.4</td>\n",
              "      <td>7.851236</td>\n",
              "    </tr>\n",
              "    <tr>\n",
              "      <th>95</th>\n",
              "      <td>Interstellar</td>\n",
              "      <td>10867</td>\n",
              "      <td>8.1</td>\n",
              "      <td>7.809479</td>\n",
              "    </tr>\n",
              "    <tr>\n",
              "      <th>809</th>\n",
              "      <td>Forrest Gump</td>\n",
              "      <td>7927</td>\n",
              "      <td>8.2</td>\n",
              "      <td>7.803188</td>\n",
              "    </tr>\n",
              "    <tr>\n",
              "      <th>329</th>\n",
              "      <td>The Lord of the Rings: The Return of the King</td>\n",
              "      <td>8064</td>\n",
              "      <td>8.1</td>\n",
              "      <td>7.727243</td>\n",
              "    </tr>\n",
              "    <tr>\n",
              "      <th>1990</th>\n",
              "      <td>The Empire Strikes Back</td>\n",
              "      <td>5879</td>\n",
              "      <td>8.2</td>\n",
              "      <td>7.697884</td>\n",
              "    </tr>\n",
              "    <tr>\n",
              "      <th>262</th>\n",
              "      <td>The Lord of the Rings: The Fellowship of the Ring</td>\n",
              "      <td>8705</td>\n",
              "      <td>8.0</td>\n",
              "      <td>7.667341</td>\n",
              "    </tr>\n",
              "    <tr>\n",
              "      <th>2912</th>\n",
              "      <td>Star Wars</td>\n",
              "      <td>6624</td>\n",
              "      <td>8.1</td>\n",
              "      <td>7.663813</td>\n",
              "    </tr>\n",
              "    <tr>\n",
              "      <th>1818</th>\n",
              "      <td>Schindler's List</td>\n",
              "      <td>4329</td>\n",
              "      <td>8.3</td>\n",
              "      <td>7.641883</td>\n",
              "    </tr>\n",
              "    <tr>\n",
              "      <th>3865</th>\n",
              "      <td>Whiplash</td>\n",
              "      <td>4254</td>\n",
              "      <td>8.3</td>\n",
              "      <td>7.633781</td>\n",
              "    </tr>\n",
              "    <tr>\n",
              "      <th>330</th>\n",
              "      <td>The Lord of the Rings: The Two Towers</td>\n",
              "      <td>7487</td>\n",
              "      <td>8.0</td>\n",
              "      <td>7.623893</td>\n",
              "    </tr>\n",
              "  </tbody>\n",
              "</table>\n",
              "</div>"
            ],
            "text/plain": [
              "                                                  title  vote_count  \\\n",
              "1881                           The Shawshank Redemption        8205   \n",
              "662                                          Fight Club        9413   \n",
              "65                                      The Dark Knight       12002   \n",
              "3232                                       Pulp Fiction        8428   \n",
              "96                                            Inception       13752   \n",
              "3337                                      The Godfather        5893   \n",
              "95                                         Interstellar       10867   \n",
              "809                                        Forrest Gump        7927   \n",
              "329       The Lord of the Rings: The Return of the King        8064   \n",
              "1990                            The Empire Strikes Back        5879   \n",
              "262   The Lord of the Rings: The Fellowship of the Ring        8705   \n",
              "2912                                          Star Wars        6624   \n",
              "1818                                   Schindler's List        4329   \n",
              "3865                                           Whiplash        4254   \n",
              "330               The Lord of the Rings: The Two Towers        7487   \n",
              "\n",
              "      vote_average     score  \n",
              "1881           8.5  8.059258  \n",
              "662            8.3  7.939256  \n",
              "65             8.2  7.920020  \n",
              "3232           8.3  7.904645  \n",
              "96             8.1  7.863239  \n",
              "3337           8.4  7.851236  \n",
              "95             8.1  7.809479  \n",
              "809            8.2  7.803188  \n",
              "329            8.1  7.727243  \n",
              "1990           8.2  7.697884  \n",
              "262            8.0  7.667341  \n",
              "2912           8.1  7.663813  \n",
              "1818           8.3  7.641883  \n",
              "3865           8.3  7.633781  \n",
              "330            8.0  7.623893  "
            ]
          },
          "metadata": {
            "tags": []
          },
          "execution_count": 44
        }
      ]
    },
    {
      "metadata": {
        "id": "4vWRYOE1yOrv",
        "colab_type": "code",
        "outputId": "1b591384-6ea0-4e68-a512-8ffe0bcf0ed7",
        "colab": {
          "base_uri": "https://localhost:8080/",
          "height": 312
        }
      },
      "cell_type": "code",
      "source": [
        "# Task 11\n",
        "\n",
        "# Find and Plot movies that are very popular by sorting the dataset by the popularity column.\n",
        "pop= df.sort_values('popularity', ascending=False)\n",
        "\n",
        "\n",
        "\n",
        "\n",
        "\n",
        "\n"
      ],
      "execution_count": 0,
      "outputs": [
        {
          "output_type": "execute_result",
          "data": {
            "text/plain": [
              "Text(0.5,1,'Popular Movies')"
            ]
          },
          "metadata": {
            "tags": []
          },
          "execution_count": 45
        },
        {
          "output_type": "display_data",
          "data": {
            "image/png": "[encoded data removed]",
            "text/plain": [
              "<matplotlib.figure.Figure at 0x7ff80d404208>"
            ]
          },
          "metadata": {
            "tags": []
          }
        }
      ]
    },
    {
      "metadata": {
        "id": "fpXK3pI3zrJ8",
        "colab_type": "code",
        "outputId": "a623f4fa-a857-4132-85f4-e4a2e06b5310",
        "colab": {
          "base_uri": "https://localhost:8080/",
          "height": 431
        }
      },
      "cell_type": "code",
      "source": [
        "# Task 12\n",
        "\n",
        "# Choose the interesting columns ('title','budget','vote_average','vote_count'), put them in a nice order and create a new data frame.\n",
        "b = \n",
        "print(b)"
      ],
      "execution_count": 0,
      "outputs": [
        {
          "output_type": "stream",
          "text": [
            "                                      title     budget  vote_average  \\\n",
            "0                                    Avatar  237000000           7.2   \n",
            "1  Pirates of the Caribbean: At World's End  300000000           6.9   \n",
            "2                                   Spectre  245000000           6.3   \n",
            "3                     The Dark Knight Rises  250000000           7.6   \n",
            "4                               John Carter  260000000           6.1   \n",
            "5                              Spider-Man 3  258000000           5.9   \n",
            "6                                   Tangled  260000000           7.4   \n",
            "7                   Avengers: Age of Ultron  280000000           7.3   \n",
            "8    Harry Potter and the Half-Blood Prince  250000000           7.4   \n",
            "9        Batman v Superman: Dawn of Justice  250000000           5.7   \n",
            "\n",
            "   vote_count  \n",
            "0       11800  \n",
            "1        4500  \n",
            "2        4466  \n",
            "3        9106  \n",
            "4        2124  \n",
            "5        3576  \n",
            "6        3330  \n",
            "7        6767  \n",
            "8        5293  \n",
            "9        7004  \n"
          ],
          "name": "stdout"
        }
      ]
    },
    {
      "metadata": {
        "id": "-pvn_R6D1Fq5",
        "colab_type": "code",
        "outputId": "e1b00605-b464-46b8-edbd-31da317d60d0",
        "colab": {
          "base_uri": "https://localhost:8080/",
          "height": 502
        }
      },
      "cell_type": "code",
      "source": [
        "# Task 13\n",
        "\n",
        "# Plot Movie Budget of first ten movies in the dataset\n",
        "\n",
        "\n",
        "plt.show()"
      ],
      "execution_count": 0,
      "outputs": [
        {
          "output_type": "display_data",
          "data": {
            "image/png": "[encoded data removed]",
            "text/plain": [
              "<matplotlib.figure.Figure at 0x7ff807c128d0>"
            ]
          },
          "metadata": {
            "tags": []
          }
        }
      ]
    },
    {
      "metadata": {
        "id": "GjNL35_y-NqI",
        "colab_type": "code",
        "outputId": "2c5ce86f-f169-40cd-ab1a-c45d21f52d02",
        "colab": {
          "base_uri": "https://localhost:8080/",
          "height": 298
        }
      },
      "cell_type": "code",
      "source": [
        "# Task 14\n",
        "\n",
        "# Plot Movie Vote Average of first ten movies in the dataset\n",
        "\n",
        "\n",
        "plt.show()"
      ],
      "execution_count": 0,
      "outputs": [
        {
          "output_type": "display_data",
          "data": {
            "image/png": "[encoded data removed]",
            "text/plain": [
              "<matplotlib.figure.Figure at 0x7ff807b7def0>"
            ]
          },
          "metadata": {
            "tags": []
          }
        }
      ]
    },
    {
      "metadata": {
        "id": "RUVsP4fz-vse",
        "colab_type": "code",
        "outputId": "66c6fbce-a7f2-4e61-cfb9-e0a91dcc7a34",
        "colab": {
          "base_uri": "https://localhost:8080/",
          "height": 376
        }
      },
      "cell_type": "code",
      "source": [
        "# Task 15\n",
        "\n",
        "# Plot Movie Vote Count of first ten movies in the dataset\n",
        "\n",
        "\n",
        "plt.show()"
      ],
      "execution_count": 0,
      "outputs": [
        {
          "output_type": "display_data",
          "data": {
            "image/png": "[encoded data removed]",
            "text/plain": [
              "<matplotlib.figure.Figure at 0x7ff807d11828>"
            ]
          },
          "metadata": {
            "tags": []
          }
        }
      ]
    },
    {
      "metadata": {
        "id": "DnCQM39LG1QY",
        "colab_type": "code",
        "outputId": "f9fa3258-0bf3-4523-eac4-3b41db00b979",
        "colab": {
          "base_uri": "https://localhost:8080/",
          "height": 359
        }
      },
      "cell_type": "code",
      "source": [
        "# Display top ten(10) movies with highest revenue return\n",
        "df[df['revenue'].notnull()][['title','budget','revenue','release_date']].sort_values('revenue',ascending=False).head(10)"
      ],
      "execution_count": 0,
      "outputs": [
        {
          "output_type": "execute_result",
          "data": {
            "text/html": [
              "<div>\n",
              "<style scoped>\n",
              "    .dataframe tbody tr th:only-of-type {\n",
              "        vertical-align: middle;\n",
              "    }\n",
              "\n",
              "    .dataframe tbody tr th {\n",
              "        vertical-align: top;\n",
              "    }\n",
              "\n",
              "    .dataframe thead th {\n",
              "        text-align: right;\n",
              "    }\n",
              "</style>\n",
              "<table border=\"1\" class=\"dataframe\">\n",
              "  <thead>\n",
              "    <tr style=\"text-align: right;\">\n",
              "      <th></th>\n",
              "      <th>title</th>\n",
              "      <th>budget</th>\n",
              "      <th>revenue</th>\n",
              "      <th>release_date</th>\n",
              "    </tr>\n",
              "  </thead>\n",
              "  <tbody>\n",
              "    <tr>\n",
              "      <th>0</th>\n",
              "      <td>Avatar</td>\n",
              "      <td>237000000</td>\n",
              "      <td>2787965087</td>\n",
              "      <td>12/10/2009</td>\n",
              "    </tr>\n",
              "    <tr>\n",
              "      <th>25</th>\n",
              "      <td>Titanic</td>\n",
              "      <td>200000000</td>\n",
              "      <td>1845034188</td>\n",
              "      <td>11/18/1997</td>\n",
              "    </tr>\n",
              "    <tr>\n",
              "      <th>16</th>\n",
              "      <td>The Avengers</td>\n",
              "      <td>220000000</td>\n",
              "      <td>1519557910</td>\n",
              "      <td>4/25/2012</td>\n",
              "    </tr>\n",
              "    <tr>\n",
              "      <th>28</th>\n",
              "      <td>Jurassic World</td>\n",
              "      <td>150000000</td>\n",
              "      <td>1513528810</td>\n",
              "      <td>6/9/2015</td>\n",
              "    </tr>\n",
              "    <tr>\n",
              "      <th>44</th>\n",
              "      <td>Furious 7</td>\n",
              "      <td>190000000</td>\n",
              "      <td>1506249360</td>\n",
              "      <td>4/1/2015</td>\n",
              "    </tr>\n",
              "    <tr>\n",
              "      <th>7</th>\n",
              "      <td>Avengers: Age of Ultron</td>\n",
              "      <td>280000000</td>\n",
              "      <td>1405403694</td>\n",
              "      <td>4/22/2015</td>\n",
              "    </tr>\n",
              "    <tr>\n",
              "      <th>124</th>\n",
              "      <td>Frozen</td>\n",
              "      <td>150000000</td>\n",
              "      <td>1274219009</td>\n",
              "      <td>11/27/2013</td>\n",
              "    </tr>\n",
              "    <tr>\n",
              "      <th>31</th>\n",
              "      <td>Iron Man 3</td>\n",
              "      <td>200000000</td>\n",
              "      <td>1215439994</td>\n",
              "      <td>4/18/2013</td>\n",
              "    </tr>\n",
              "    <tr>\n",
              "      <th>546</th>\n",
              "      <td>Minions</td>\n",
              "      <td>74000000</td>\n",
              "      <td>1156730962</td>\n",
              "      <td>6/17/2015</td>\n",
              "    </tr>\n",
              "    <tr>\n",
              "      <th>26</th>\n",
              "      <td>Captain America: Civil War</td>\n",
              "      <td>250000000</td>\n",
              "      <td>1153304495</td>\n",
              "      <td>4/27/2016</td>\n",
              "    </tr>\n",
              "  </tbody>\n",
              "</table>\n",
              "</div>"
            ],
            "text/plain": [
              "                          title     budget     revenue release_date\n",
              "0                        Avatar  237000000  2787965087   12/10/2009\n",
              "25                      Titanic  200000000  1845034188   11/18/1997\n",
              "16                 The Avengers  220000000  1519557910    4/25/2012\n",
              "28               Jurassic World  150000000  1513528810     6/9/2015\n",
              "44                    Furious 7  190000000  1506249360     4/1/2015\n",
              "7       Avengers: Age of Ultron  280000000  1405403694    4/22/2015\n",
              "124                      Frozen  150000000  1274219009   11/27/2013\n",
              "31                   Iron Man 3  200000000  1215439994    4/18/2013\n",
              "546                     Minions   74000000  1156730962    6/17/2015\n",
              "26   Captain America: Civil War  250000000  1153304495    4/27/2016"
            ]
          },
          "metadata": {
            "tags": []
          },
          "execution_count": 113
        }
      ]
    },
    {
      "metadata": {
        "id": "oN8s2AFvH_PO",
        "colab_type": "code",
        "outputId": "915ed618-9eec-480c-9060-bcb1d1fea2a6",
        "colab": {
          "base_uri": "https://localhost:8080/",
          "height": 520
        }
      },
      "cell_type": "code",
      "source": [
        "# Bonus Task\n",
        "\n",
        "# Plot the revenue trend based on first 100 grouped release dates\n",
        "\n"
      ],
      "execution_count": 0,
      "outputs": [
        {
          "output_type": "execute_result",
          "data": {
            "text/plain": [
              "<matplotlib.axes._subplots.AxesSubplot at 0x7ff804c539b0>"
            ]
          },
          "metadata": {
            "tags": []
          },
          "execution_count": 133
        },
        {
          "output_type": "display_data",
          "data": {
            "image/png": "[encoded data removed]",
            "text/plain": [
              "<matplotlib.figure.Figure at 0x7ff804cd16d8>"
            ]
          },
          "metadata": {
            "tags": []
          }
        }
      ]
    }
  ]
}